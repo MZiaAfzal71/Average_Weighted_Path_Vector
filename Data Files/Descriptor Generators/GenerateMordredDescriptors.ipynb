{
  "nbformat": 4,
  "nbformat_minor": 0,
  "metadata": {
    "colab": {
      "provenance": [],
      "authorship_tag": "ABX9TyMrh7ccKcsFKnyYWGdFxElM",
      "include_colab_link": true
    },
    "kernelspec": {
      "name": "python3",
      "display_name": "Python 3"
    },
    "language_info": {
      "name": "python"
    }
  },
  "cells": [
    {
      "cell_type": "markdown",
      "metadata": {
        "id": "view-in-github",
        "colab_type": "text"
      },
      "source": [
        "<a href=\"https://colab.research.google.com/github/MZiaAfzal71/Average_Weighted_Path_Vector/blob/main/Data%20Files/Descriptor%20Generators/GenerateMordredDescriptors.ipynb\" target=\"_parent\"><img src=\"https://colab.research.google.com/assets/colab-badge.svg\" alt=\"Open In Colab\"/></a>"
      ]
    },
    {
      "cell_type": "code",
      "source": [
        "!git clone https://github.com/MZiaAfzal71/Average_Weighted_Path_Vector.git"
      ],
      "metadata": {
        "id": "Hows0jFMfWVH",
        "outputId": "c9b0659c-5f89-4d5c-9f33-c1a7b25e886f",
        "colab": {
          "base_uri": "https://localhost:8080/"
        }
      },
      "execution_count": 1,
      "outputs": [
        {
          "output_type": "stream",
          "name": "stdout",
          "text": [
            "Cloning into 'Average_Weighted_Path_Vector'...\n",
            "remote: Enumerating objects: 189, done.\u001b[K\n",
            "remote: Counting objects: 100% (189/189), done.\u001b[K\n",
            "remote: Compressing objects: 100% (169/169), done.\u001b[K\n",
            "remote: Total 189 (delta 47), reused 30 (delta 11), pack-reused 0 (from 0)\u001b[K\n",
            "Receiving objects: 100% (189/189), 29.23 MiB | 23.64 MiB/s, done.\n",
            "Resolving deltas: 100% (47/47), done.\n"
          ]
        }
      ]
    },
    {
      "cell_type": "code",
      "source": [
        "!pip install rdkit mordred"
      ],
      "metadata": {
        "id": "scEQb5PZJp_T",
        "outputId": "820472d2-323e-4d8e-9248-639a73ee8a6e",
        "colab": {
          "base_uri": "https://localhost:8080/",
          "height": 1000
        }
      },
      "execution_count": 2,
      "outputs": [
        {
          "output_type": "stream",
          "name": "stdout",
          "text": [
            "Collecting rdkit\n",
            "  Downloading rdkit-2025.3.5-cp311-cp311-manylinux_2_28_x86_64.whl.metadata (4.1 kB)\n",
            "Collecting mordred\n",
            "  Downloading mordred-1.2.0.tar.gz (128 kB)\n",
            "\u001b[2K     \u001b[90m━━━━━━━━━━━━━━━━━━━━━━━━━━━━━━━━━━━━━━━\u001b[0m \u001b[32m128.8/128.8 kB\u001b[0m \u001b[31m2.8 MB/s\u001b[0m eta \u001b[36m0:00:00\u001b[0m\n",
            "\u001b[?25h  Preparing metadata (setup.py) ... \u001b[?25l\u001b[?25hdone\n",
            "Requirement already satisfied: numpy in /usr/local/lib/python3.11/dist-packages (from rdkit) (2.0.2)\n",
            "Requirement already satisfied: Pillow in /usr/local/lib/python3.11/dist-packages (from rdkit) (11.3.0)\n",
            "Requirement already satisfied: six==1.* in /usr/local/lib/python3.11/dist-packages (from mordred) (1.17.0)\n",
            "Collecting numpy (from rdkit)\n",
            "  Downloading numpy-1.26.4-cp311-cp311-manylinux_2_17_x86_64.manylinux2014_x86_64.whl.metadata (61 kB)\n",
            "\u001b[2K     \u001b[90m━━━━━━━━━━━━━━━━━━━━━━━━━━━━━━━━━━━━━━━━\u001b[0m \u001b[32m61.0/61.0 kB\u001b[0m \u001b[31m3.4 MB/s\u001b[0m eta \u001b[36m0:00:00\u001b[0m\n",
            "\u001b[?25hCollecting networkx==2.* (from mordred)\n",
            "  Downloading networkx-2.8.8-py3-none-any.whl.metadata (5.1 kB)\n",
            "Downloading rdkit-2025.3.5-cp311-cp311-manylinux_2_28_x86_64.whl (36.3 MB)\n",
            "\u001b[2K   \u001b[90m━━━━━━━━━━━━━━━━━━━━━━━━━━━━━━━━━━━━━━━━\u001b[0m \u001b[32m36.3/36.3 MB\u001b[0m \u001b[31m30.0 MB/s\u001b[0m eta \u001b[36m0:00:00\u001b[0m\n",
            "\u001b[?25hDownloading networkx-2.8.8-py3-none-any.whl (2.0 MB)\n",
            "\u001b[2K   \u001b[90m━━━━━━━━━━━━━━━━━━━━━━━━━━━━━━━━━━━━━━━━\u001b[0m \u001b[32m2.0/2.0 MB\u001b[0m \u001b[31m50.7 MB/s\u001b[0m eta \u001b[36m0:00:00\u001b[0m\n",
            "\u001b[?25hDownloading numpy-1.26.4-cp311-cp311-manylinux_2_17_x86_64.manylinux2014_x86_64.whl (18.3 MB)\n",
            "\u001b[2K   \u001b[90m━━━━━━━━━━━━━━━━━━━━━━━━━━━━━━━━━━━━━━━━\u001b[0m \u001b[32m18.3/18.3 MB\u001b[0m \u001b[31m55.3 MB/s\u001b[0m eta \u001b[36m0:00:00\u001b[0m\n",
            "\u001b[?25hBuilding wheels for collected packages: mordred\n",
            "  Building wheel for mordred (setup.py) ... \u001b[?25l\u001b[?25hdone\n",
            "  Created wheel for mordred: filename=mordred-1.2.0-py3-none-any.whl size=176718 sha256=1f45b467fd224945659663a4ae47ca2fa35302dc1593e97841e11e74ad9f8746\n",
            "  Stored in directory: /root/.cache/pip/wheels/8b/30/0b/84e3f6775306e74cf5957ee4d16b10bf3927dcec44cc23d5f2\n",
            "Successfully built mordred\n",
            "Installing collected packages: numpy, networkx, rdkit, mordred\n",
            "  Attempting uninstall: numpy\n",
            "    Found existing installation: numpy 2.0.2\n",
            "    Uninstalling numpy-2.0.2:\n",
            "      Successfully uninstalled numpy-2.0.2\n",
            "  Attempting uninstall: networkx\n",
            "    Found existing installation: networkx 3.5\n",
            "    Uninstalling networkx-3.5:\n",
            "      Successfully uninstalled networkx-3.5\n",
            "\u001b[31mERROR: pip's dependency resolver does not currently take into account all the packages that are installed. This behaviour is the source of the following dependency conflicts.\n",
            "opencv-contrib-python 4.12.0.88 requires numpy<2.3.0,>=2; python_version >= \"3.9\", but you have numpy 1.26.4 which is incompatible.\n",
            "scikit-image 0.25.2 requires networkx>=3.0, but you have networkx 2.8.8 which is incompatible.\n",
            "opencv-python 4.12.0.88 requires numpy<2.3.0,>=2; python_version >= \"3.9\", but you have numpy 1.26.4 which is incompatible.\n",
            "nx-cugraph-cu12 25.6.0 requires networkx>=3.2, but you have networkx 2.8.8 which is incompatible.\n",
            "torch 2.6.0+cu124 requires nvidia-cublas-cu12==12.4.5.8; platform_system == \"Linux\" and platform_machine == \"x86_64\", but you have nvidia-cublas-cu12 12.5.3.2 which is incompatible.\n",
            "torch 2.6.0+cu124 requires nvidia-cuda-cupti-cu12==12.4.127; platform_system == \"Linux\" and platform_machine == \"x86_64\", but you have nvidia-cuda-cupti-cu12 12.5.82 which is incompatible.\n",
            "torch 2.6.0+cu124 requires nvidia-cuda-nvrtc-cu12==12.4.127; platform_system == \"Linux\" and platform_machine == \"x86_64\", but you have nvidia-cuda-nvrtc-cu12 12.5.82 which is incompatible.\n",
            "torch 2.6.0+cu124 requires nvidia-cuda-runtime-cu12==12.4.127; platform_system == \"Linux\" and platform_machine == \"x86_64\", but you have nvidia-cuda-runtime-cu12 12.5.82 which is incompatible.\n",
            "torch 2.6.0+cu124 requires nvidia-cudnn-cu12==9.1.0.70; platform_system == \"Linux\" and platform_machine == \"x86_64\", but you have nvidia-cudnn-cu12 9.3.0.75 which is incompatible.\n",
            "torch 2.6.0+cu124 requires nvidia-cufft-cu12==11.2.1.3; platform_system == \"Linux\" and platform_machine == \"x86_64\", but you have nvidia-cufft-cu12 11.2.3.61 which is incompatible.\n",
            "torch 2.6.0+cu124 requires nvidia-curand-cu12==10.3.5.147; platform_system == \"Linux\" and platform_machine == \"x86_64\", but you have nvidia-curand-cu12 10.3.6.82 which is incompatible.\n",
            "torch 2.6.0+cu124 requires nvidia-cusolver-cu12==11.6.1.9; platform_system == \"Linux\" and platform_machine == \"x86_64\", but you have nvidia-cusolver-cu12 11.6.3.83 which is incompatible.\n",
            "torch 2.6.0+cu124 requires nvidia-cusparse-cu12==12.3.1.170; platform_system == \"Linux\" and platform_machine == \"x86_64\", but you have nvidia-cusparse-cu12 12.5.1.3 which is incompatible.\n",
            "torch 2.6.0+cu124 requires nvidia-nccl-cu12==2.21.5; platform_system == \"Linux\" and platform_machine == \"x86_64\", but you have nvidia-nccl-cu12 2.23.4 which is incompatible.\n",
            "torch 2.6.0+cu124 requires nvidia-nvjitlink-cu12==12.4.127; platform_system == \"Linux\" and platform_machine == \"x86_64\", but you have nvidia-nvjitlink-cu12 12.5.82 which is incompatible.\n",
            "opencv-python-headless 4.12.0.88 requires numpy<2.3.0,>=2; python_version >= \"3.9\", but you have numpy 1.26.4 which is incompatible.\n",
            "thinc 8.3.6 requires numpy<3.0.0,>=2.0.0, but you have numpy 1.26.4 which is incompatible.\u001b[0m\u001b[31m\n",
            "\u001b[0mSuccessfully installed mordred-1.2.0 networkx-2.8.8 numpy-1.26.4 rdkit-2025.3.5\n"
          ]
        },
        {
          "output_type": "display_data",
          "data": {
            "application/vnd.colab-display-data+json": {
              "pip_warning": {
                "packages": [
                  "numpy"
                ]
              },
              "id": "58507e4f26a74293b1765311686296a3"
            }
          },
          "metadata": {}
        }
      ]
    },
    {
      "cell_type": "markdown",
      "source": [
        "## You will be asked to restart the session, so please do so to ensure that the upcoming imports work properly."
      ],
      "metadata": {
        "id": "THd_RYVgkfCo"
      }
    },
    {
      "cell_type": "code",
      "source": [
        "%cd Average_Weighted_Path_Vector/Data\\ Files"
      ],
      "metadata": {
        "id": "Ze4bhMx4fcQD",
        "outputId": "1663cbe4-bfc5-43c5-9b98-e75f8f5c870a",
        "colab": {
          "base_uri": "https://localhost:8080/"
        }
      },
      "execution_count": 1,
      "outputs": [
        {
          "output_type": "stream",
          "name": "stdout",
          "text": [
            "/content/Average_Weighted_Path_Vector/Data Files\n"
          ]
        }
      ]
    },
    {
      "cell_type": "code",
      "execution_count": 2,
      "metadata": {
        "id": "qFeGOd4byt0p"
      },
      "outputs": [],
      "source": [
        "import numpy as np # linear algebra\n",
        "import pandas as pd # data processing, CSV file I/O (e.g. pd.read_csv)\n",
        "from rdkit import Chem\n",
        "from rdkit.Chem import AllChem\n",
        "from mordred import Calculator, descriptors\n",
        "import mordred\n",
        "from tqdm import tqdm\n",
        "import os"
      ]
    },
    {
      "cell_type": "markdown",
      "source": [
        "## bad_keys contains keys that will be excluded from the computation of Mordred descriptors. However, you may assign it to the null list to include all descriptors."
      ],
      "metadata": {
        "id": "iIdjXWuwK0cY"
      }
    },
    {
      "cell_type": "code",
      "source": [
        "bad_keys = [mordred.ABCIndex.ABCIndex(), mordred.ABCIndex.ABCGGIndex(), mordred.Autocorrelation.AATS(7, 'dv'), mordred.Autocorrelation.AATS(8, 'dv'), mordred.Autocorrelation.AATS(7, 'd'), mordred.Autocorrelation.AATS(8, 'd'), mordred.Autocorrelation.AATS(7, 's'), mordred.Autocorrelation.AATS(8, 's'), mordred.Autocorrelation.AATS(7, 'Z'), mordred.Autocorrelation.AATS(8, 'Z'), mordred.Autocorrelation.AATS(7, 'm'), mordred.Autocorrelation.AATS(8, 'm'), mordred.Autocorrelation.AATS(7, 'v'), mordred.Autocorrelation.AATS(8, 'v'), mordred.Autocorrelation.AATS(7, 'se'), mordred.Autocorrelation.AATS(8, 'se'), mordred.Autocorrelation.AATS(7, 'pe'), mordred.Autocorrelation.AATS(8, 'pe'), mordred.Autocorrelation.AATS(7, 'are'), mordred.Autocorrelation.AATS(8, 'are'), mordred.Autocorrelation.AATS(7, 'p'), mordred.Autocorrelation.AATS(8, 'p'), mordred.Autocorrelation.AATS(7, 'i'), mordred.Autocorrelation.AATS(8, 'i'), mordred.Autocorrelation.AATSC(7, 'c'), mordred.Autocorrelation.AATSC(8, 'c'), mordred.Autocorrelation.AATSC(7, 'dv'), mordred.Autocorrelation.AATSC(8, 'dv'), mordred.Autocorrelation.AATSC(7, 'd'), mordred.Autocorrelation.AATSC(8, 'd'), mordred.Autocorrelation.AATSC(7, 's'), mordred.Autocorrelation.AATSC(8, 's'), mordred.Autocorrelation.AATSC(7, 'Z'), mordred.Autocorrelation.AATSC(8, 'Z'), mordred.Autocorrelation.AATSC(7, 'm'), mordred.Autocorrelation.AATSC(8, 'm'), mordred.Autocorrelation.AATSC(7, 'v'), mordred.Autocorrelation.AATSC(8, 'v'), mordred.Autocorrelation.AATSC(7, 'se'), mordred.Autocorrelation.AATSC(8, 'se'), mordred.Autocorrelation.AATSC(7, 'pe'), mordred.Autocorrelation.AATSC(8, 'pe'), mordred.Autocorrelation.AATSC(7, 'are'), mordred.Autocorrelation.AATSC(8, 'are'), mordred.Autocorrelation.AATSC(7, 'p'), mordred.Autocorrelation.AATSC(8, 'p'), mordred.Autocorrelation.AATSC(7, 'i'), mordred.Autocorrelation.AATSC(8, 'i'), mordred.Autocorrelation.MATS(7, 'c'), mordred.Autocorrelation.MATS(8, 'c'), mordred.Autocorrelation.MATS(7, 'dv'), mordred.Autocorrelation.MATS(8, 'dv'), mordred.Autocorrelation.MATS(7, 'd'), mordred.Autocorrelation.MATS(8, 'd'), mordred.Autocorrelation.MATS(7, 's'), mordred.Autocorrelation.MATS(8, 's'), mordred.Autocorrelation.MATS(7, 'Z'), mordred.Autocorrelation.MATS(8, 'Z'), mordred.Autocorrelation.MATS(7, 'm'), mordred.Autocorrelation.MATS(8, 'm'), mordred.Autocorrelation.MATS(7, 'v'), mordred.Autocorrelation.MATS(8, 'v'), mordred.Autocorrelation.MATS(7, 'se'), mordred.Autocorrelation.MATS(8, 'se'), mordred.Autocorrelation.MATS(7, 'pe'), mordred.Autocorrelation.MATS(8, 'pe'), mordred.Autocorrelation.MATS(7, 'are'), mordred.Autocorrelation.MATS(8, 'are'), mordred.Autocorrelation.MATS(7, 'p'), mordred.Autocorrelation.MATS(8, 'p'), mordred.Autocorrelation.MATS(7, 'i'), mordred.Autocorrelation.MATS(8, 'i'), mordred.Autocorrelation.GATS(7, 'c'), mordred.Autocorrelation.GATS(8, 'c'), mordred.Autocorrelation.GATS(7, 'dv'), mordred.Autocorrelation.GATS(8, 'dv'), mordred.Autocorrelation.GATS(7, 'd'), mordred.Autocorrelation.GATS(8, 'd'), mordred.Autocorrelation.GATS(7, 's'), mordred.Autocorrelation.GATS(8, 's'), mordred.Autocorrelation.GATS(7, 'Z'), mordred.Autocorrelation.GATS(8, 'Z'), mordred.Autocorrelation.GATS(7, 'm'), mordred.Autocorrelation.GATS(8, 'm'), mordred.Autocorrelation.GATS(7, 'v'), mordred.Autocorrelation.GATS(8, 'v'), mordred.Autocorrelation.GATS(7, 'se'), mordred.Autocorrelation.GATS(8, 'se'), mordred.Autocorrelation.GATS(7, 'pe'), mordred.Autocorrelation.GATS(8, 'pe'), mordred.Autocorrelation.GATS(7, 'are'), mordred.Autocorrelation.GATS(8, 'are'), mordred.Autocorrelation.GATS(7, 'p'), mordred.Autocorrelation.GATS(8, 'p'), mordred.Autocorrelation.GATS(7, 'i'), mordred.Autocorrelation.GATS(8, 'i'), mordred.Chi.Chi('path', 6, 'd', True), mordred.Chi.Chi('path', 7, 'd', True), mordred.Chi.Chi('path', 6, 'dv', True), mordred.Chi.Chi('path', 7, 'dv', True), mordred.DetourMatrix.DetourMatrix('SpAbs'), mordred.DetourMatrix.DetourMatrix('SpMax'), mordred.DetourMatrix.DetourMatrix('SpDiam'), mordred.DetourMatrix.DetourMatrix('SpAD'), mordred.DetourMatrix.DetourMatrix('SpMAD'), mordred.DetourMatrix.DetourMatrix('LogEE'), mordred.DetourMatrix.DetourMatrix('SM1'), mordred.DetourMatrix.DetourMatrix('VE1'), mordred.DetourMatrix.DetourMatrix('VE2'), mordred.DetourMatrix.DetourMatrix('VE3'), mordred.DetourMatrix.DetourMatrix('VR1'), mordred.DetourMatrix.DetourMatrix('VR2'), mordred.DetourMatrix.DetourMatrix('VR3'), mordred.DetourMatrix.DetourIndex(), mordred.EState.AtomTypeEState('max', 'sLi'), mordred.EState.AtomTypeEState('max', 'ssBe'), mordred.EState.AtomTypeEState('max', 'ssssBe'), mordred.EState.AtomTypeEState('max', 'ssBH'), mordred.EState.AtomTypeEState('max', 'sssB'), mordred.EState.AtomTypeEState('max', 'ssssB'), mordred.EState.AtomTypeEState('max', 'dCH2'), mordred.EState.AtomTypeEState('max', 'ssCH2'), mordred.EState.AtomTypeEState('max', 'tCH'), mordred.EState.AtomTypeEState('max', 'dsCH'), mordred.EState.AtomTypeEState('max', 'aaCH'), mordred.EState.AtomTypeEState('max', 'sssCH'), mordred.EState.AtomTypeEState('max', 'ddC'), mordred.EState.AtomTypeEState('max', 'tsC'), mordred.EState.AtomTypeEState('max', 'dssC'), mordred.EState.AtomTypeEState('max', 'aasC'), mordred.EState.AtomTypeEState('max', 'aaaC'), mordred.EState.AtomTypeEState('max', 'sNH3'), mordred.EState.AtomTypeEState('max', 'sNH2'), mordred.EState.AtomTypeEState('max', 'ssNH2'), mordred.EState.AtomTypeEState('max', 'dNH'), mordred.EState.AtomTypeEState('max', 'ssNH'), mordred.EState.AtomTypeEState('max', 'aaNH'), mordred.EState.AtomTypeEState('max', 'tN'), mordred.EState.AtomTypeEState('max', 'sssNH'), mordred.EState.AtomTypeEState('max', 'dsN'), mordred.EState.AtomTypeEState('max', 'aaN'), mordred.EState.AtomTypeEState('max', 'sssN'), mordred.EState.AtomTypeEState('max', 'ddsN'), mordred.EState.AtomTypeEState('max', 'aasN'), mordred.EState.AtomTypeEState('max', 'ssssN'), mordred.EState.AtomTypeEState('max', 'sOH'), mordred.EState.AtomTypeEState('max', 'dO'), mordred.EState.AtomTypeEState('max', 'aaO'), mordred.EState.AtomTypeEState('max', 'sSiH3'), mordred.EState.AtomTypeEState('max', 'ssSiH2'), mordred.EState.AtomTypeEState('max', 'sssSiH'), mordred.EState.AtomTypeEState('max', 'ssssSi'), mordred.EState.AtomTypeEState('max', 'sPH2'), mordred.EState.AtomTypeEState('max', 'ssPH'), mordred.EState.AtomTypeEState('max', 'sssP'), mordred.EState.AtomTypeEState('max', 'dsssP'), mordred.EState.AtomTypeEState('max', 'sssssP'), mordred.EState.AtomTypeEState('max', 'sSH'), mordred.EState.AtomTypeEState('max', 'dS'), mordred.EState.AtomTypeEState('max', 'ssS'), mordred.EState.AtomTypeEState('max', 'aaS'), mordred.EState.AtomTypeEState('max', 'dssS'), mordred.EState.AtomTypeEState('max', 'ddssS'), mordred.EState.AtomTypeEState('max', 'sCl'), mordred.EState.AtomTypeEState('max', 'sGeH3'), mordred.EState.AtomTypeEState('max', 'ssGeH2'), mordred.EState.AtomTypeEState('max', 'sssGeH'), mordred.EState.AtomTypeEState('max', 'ssssGe'), mordred.EState.AtomTypeEState('max', 'sAsH2'), mordred.EState.AtomTypeEState('max', 'ssAsH'), mordred.EState.AtomTypeEState('max', 'sssAs'), mordred.EState.AtomTypeEState('max', 'sssdAs'), mordred.EState.AtomTypeEState('max', 'sssssAs'), mordred.EState.AtomTypeEState('max', 'sSeH'), mordred.EState.AtomTypeEState('max', 'dSe'), mordred.EState.AtomTypeEState('max', 'ssSe'), mordred.EState.AtomTypeEState('max', 'aaSe'), mordred.EState.AtomTypeEState('max', 'dssSe'), mordred.EState.AtomTypeEState('max', 'ddssSe'), mordred.EState.AtomTypeEState('max', 'sBr'), mordred.EState.AtomTypeEState('max', 'sSnH3'), mordred.EState.AtomTypeEState('max', 'ssSnH2'), mordred.EState.AtomTypeEState('max', 'sssSnH'), mordred.EState.AtomTypeEState('max', 'ssssSn'), mordred.EState.AtomTypeEState('max', 'sI'), mordred.EState.AtomTypeEState('max', 'sPbH3'), mordred.EState.AtomTypeEState('max', 'ssPbH2'), mordred.EState.AtomTypeEState('max', 'sssPbH'), mordred.EState.AtomTypeEState('max', 'ssssPb'), mordred.EState.AtomTypeEState('min', 'sLi'), mordred.EState.AtomTypeEState('min', 'ssBe'), mordred.EState.AtomTypeEState('min', 'ssssBe'), mordred.EState.AtomTypeEState('min', 'ssBH'), mordred.EState.AtomTypeEState('min', 'sssB'), mordred.EState.AtomTypeEState('min', 'ssssB'), mordred.EState.AtomTypeEState('min', 'dCH2'), mordred.EState.AtomTypeEState('min', 'ssCH2'), mordred.EState.AtomTypeEState('min', 'tCH'), mordred.EState.AtomTypeEState('min', 'dsCH'), mordred.EState.AtomTypeEState('min', 'aaCH'), mordred.EState.AtomTypeEState('min', 'sssCH'), mordred.EState.AtomTypeEState('min', 'ddC'), mordred.EState.AtomTypeEState('min', 'tsC'), mordred.EState.AtomTypeEState('min', 'dssC'), mordred.EState.AtomTypeEState('min', 'aasC'), mordred.EState.AtomTypeEState('min', 'aaaC'), mordred.EState.AtomTypeEState('min', 'sNH3'), mordred.EState.AtomTypeEState('min', 'sNH2'), mordred.EState.AtomTypeEState('min', 'ssNH2'), mordred.EState.AtomTypeEState('min', 'dNH'), mordred.EState.AtomTypeEState('min', 'ssNH'), mordred.EState.AtomTypeEState('min', 'aaNH'), mordred.EState.AtomTypeEState('min', 'tN'), mordred.EState.AtomTypeEState('min', 'sssNH'), mordred.EState.AtomTypeEState('min', 'dsN'), mordred.EState.AtomTypeEState('min', 'aaN'), mordred.EState.AtomTypeEState('min', 'sssN'), mordred.EState.AtomTypeEState('min', 'ddsN'), mordred.EState.AtomTypeEState('min', 'aasN'), mordred.EState.AtomTypeEState('min', 'ssssN'), mordred.EState.AtomTypeEState('min', 'sOH'), mordred.EState.AtomTypeEState('min', 'dO'), mordred.EState.AtomTypeEState('min', 'aaO'), mordred.EState.AtomTypeEState('min', 'sSiH3'), mordred.EState.AtomTypeEState('min', 'ssSiH2'), mordred.EState.AtomTypeEState('min', 'sssSiH'), mordred.EState.AtomTypeEState('min', 'ssssSi'), mordred.EState.AtomTypeEState('min', 'sPH2'), mordred.EState.AtomTypeEState('min', 'ssPH'), mordred.EState.AtomTypeEState('min', 'sssP'), mordred.EState.AtomTypeEState('min', 'dsssP'), mordred.EState.AtomTypeEState('min', 'sssssP'), mordred.EState.AtomTypeEState('min', 'sSH'), mordred.EState.AtomTypeEState('min', 'dS'), mordred.EState.AtomTypeEState('min', 'ssS'), mordred.EState.AtomTypeEState('min', 'aaS'), mordred.EState.AtomTypeEState('min', 'dssS'), mordred.EState.AtomTypeEState('min', 'ddssS'), mordred.EState.AtomTypeEState('min', 'sCl'), mordred.EState.AtomTypeEState('min', 'sGeH3'), mordred.EState.AtomTypeEState('min', 'ssGeH2'), mordred.EState.AtomTypeEState('min', 'sssGeH'), mordred.EState.AtomTypeEState('min', 'ssssGe'), mordred.EState.AtomTypeEState('min', 'sAsH2'), mordred.EState.AtomTypeEState('min', 'ssAsH'), mordred.EState.AtomTypeEState('min', 'sssAs'), mordred.EState.AtomTypeEState('min', 'sssdAs'), mordred.EState.AtomTypeEState('min', 'sssssAs'), mordred.EState.AtomTypeEState('min', 'sSeH'), mordred.EState.AtomTypeEState('min', 'dSe'), mordred.EState.AtomTypeEState('min', 'ssSe'), mordred.EState.AtomTypeEState('min', 'aaSe'), mordred.EState.AtomTypeEState('min', 'dssSe'), mordred.EState.AtomTypeEState('min', 'ddssSe'), mordred.EState.AtomTypeEState('min', 'sBr'), mordred.EState.AtomTypeEState('min', 'sSnH3'), mordred.EState.AtomTypeEState('min', 'ssSnH2'), mordred.EState.AtomTypeEState('min', 'sssSnH'), mordred.EState.AtomTypeEState('min', 'ssssSn'), mordred.EState.AtomTypeEState('min', 'sI'), mordred.EState.AtomTypeEState('min', 'sPbH3'), mordred.EState.AtomTypeEState('min', 'ssPbH2'), mordred.EState.AtomTypeEState('min', 'sssPbH'), mordred.EState.AtomTypeEState('min', 'ssssPb'), mordred.MoRSE.MoRSE(None, 1), mordred.MoRSE.MoRSE(None, 2), mordred.MoRSE.MoRSE(None, 3), mordred.MoRSE.MoRSE(None, 4), mordred.MoRSE.MoRSE(None, 5), mordred.MoRSE.MoRSE(None, 6), mordred.MoRSE.MoRSE(None, 7), mordred.MoRSE.MoRSE(None, 8), mordred.MoRSE.MoRSE(None, 9), mordred.MoRSE.MoRSE(None, 10), mordred.MoRSE.MoRSE(None, 11), mordred.MoRSE.MoRSE(None, 12), mordred.MoRSE.MoRSE(None, 13), mordred.MoRSE.MoRSE(None, 14), mordred.MoRSE.MoRSE(None, 15), mordred.MoRSE.MoRSE(None, 16), mordred.MoRSE.MoRSE(None, 17), mordred.MoRSE.MoRSE(None, 18), mordred.MoRSE.MoRSE(None, 19), mordred.MoRSE.MoRSE(None, 20), mordred.MoRSE.MoRSE(None, 21), mordred.MoRSE.MoRSE(None, 22), mordred.MoRSE.MoRSE(None, 23), mordred.MoRSE.MoRSE(None, 24), mordred.MoRSE.MoRSE(None, 25), mordred.MoRSE.MoRSE(None, 26), mordred.MoRSE.MoRSE(None, 27), mordred.MoRSE.MoRSE(None, 28), mordred.MoRSE.MoRSE(None, 29), mordred.MoRSE.MoRSE(None, 30), mordred.MoRSE.MoRSE(None, 31), mordred.MoRSE.MoRSE(None, 32), mordred.MoRSE.MoRSE('m', 1), mordred.MoRSE.MoRSE('m', 2), mordred.MoRSE.MoRSE('m', 3), mordred.MoRSE.MoRSE('m', 4), mordred.MoRSE.MoRSE('m', 5), mordred.MoRSE.MoRSE('m', 6), mordred.MoRSE.MoRSE('m', 7), mordred.MoRSE.MoRSE('m', 8), mordred.MoRSE.MoRSE('m', 9), mordred.MoRSE.MoRSE('m', 10), mordred.MoRSE.MoRSE('m', 11), mordred.MoRSE.MoRSE('m', 12), mordred.MoRSE.MoRSE('m', 13), mordred.MoRSE.MoRSE('m', 14), mordred.MoRSE.MoRSE('m', 15), mordred.MoRSE.MoRSE('m', 16), mordred.MoRSE.MoRSE('m', 17), mordred.MoRSE.MoRSE('m', 18), mordred.MoRSE.MoRSE('m', 19), mordred.MoRSE.MoRSE('m', 20), mordred.MoRSE.MoRSE('m', 21), mordred.MoRSE.MoRSE('m', 22), mordred.MoRSE.MoRSE('m', 23), mordred.MoRSE.MoRSE('m', 24), mordred.MoRSE.MoRSE('m', 25), mordred.MoRSE.MoRSE('m', 26), mordred.MoRSE.MoRSE('m', 27), mordred.MoRSE.MoRSE('m', 28), mordred.MoRSE.MoRSE('m', 29), mordred.MoRSE.MoRSE('m', 30), mordred.MoRSE.MoRSE('m', 31), mordred.MoRSE.MoRSE('m', 32), mordred.MoRSE.MoRSE('v', 1), mordred.MoRSE.MoRSE('v', 2), mordred.MoRSE.MoRSE('v', 3), mordred.MoRSE.MoRSE('v', 4), mordred.MoRSE.MoRSE('v', 5), mordred.MoRSE.MoRSE('v', 6), mordred.MoRSE.MoRSE('v', 7), mordred.MoRSE.MoRSE('v', 8), mordred.MoRSE.MoRSE('v', 9), mordred.MoRSE.MoRSE('v', 10), mordred.MoRSE.MoRSE('v', 11), mordred.MoRSE.MoRSE('v', 12), mordred.MoRSE.MoRSE('v', 13), mordred.MoRSE.MoRSE('v', 14), mordred.MoRSE.MoRSE('v', 15), mordred.MoRSE.MoRSE('v', 16), mordred.MoRSE.MoRSE('v', 17), mordred.MoRSE.MoRSE('v', 18), mordred.MoRSE.MoRSE('v', 19), mordred.MoRSE.MoRSE('v', 20), mordred.MoRSE.MoRSE('v', 21), mordred.MoRSE.MoRSE('v', 22), mordred.MoRSE.MoRSE('v', 23), mordred.MoRSE.MoRSE('v', 24), mordred.MoRSE.MoRSE('v', 25), mordred.MoRSE.MoRSE('v', 26), mordred.MoRSE.MoRSE('v', 27), mordred.MoRSE.MoRSE('v', 28), mordred.MoRSE.MoRSE('v', 29), mordred.MoRSE.MoRSE('v', 30), mordred.MoRSE.MoRSE('v', 31), mordred.MoRSE.MoRSE('v', 32), mordred.MoRSE.MoRSE('se', 1), mordred.MoRSE.MoRSE('se', 2), mordred.MoRSE.MoRSE('se', 3), mordred.MoRSE.MoRSE('se', 4), mordred.MoRSE.MoRSE('se', 5), mordred.MoRSE.MoRSE('se', 6), mordred.MoRSE.MoRSE('se', 7), mordred.MoRSE.MoRSE('se', 8), mordred.MoRSE.MoRSE('se', 9), mordred.MoRSE.MoRSE('se', 10), mordred.MoRSE.MoRSE('se', 11), mordred.MoRSE.MoRSE('se', 12), mordred.MoRSE.MoRSE('se', 13), mordred.MoRSE.MoRSE('se', 14), mordred.MoRSE.MoRSE('se', 15), mordred.MoRSE.MoRSE('se', 16), mordred.MoRSE.MoRSE('se', 17), mordred.MoRSE.MoRSE('se', 18), mordred.MoRSE.MoRSE('se', 19), mordred.MoRSE.MoRSE('se', 20), mordred.MoRSE.MoRSE('se', 21), mordred.MoRSE.MoRSE('se', 22), mordred.MoRSE.MoRSE('se', 23), mordred.MoRSE.MoRSE('se', 24), mordred.MoRSE.MoRSE('se', 25), mordred.MoRSE.MoRSE('se', 26), mordred.MoRSE.MoRSE('se', 27), mordred.MoRSE.MoRSE('se', 28), mordred.MoRSE.MoRSE('se', 29), mordred.MoRSE.MoRSE('se', 30), mordred.MoRSE.MoRSE('se', 31), mordred.MoRSE.MoRSE('se', 32), mordred.MoRSE.MoRSE('p', 1), mordred.MoRSE.MoRSE('p', 2), mordred.MoRSE.MoRSE('p', 3), mordred.MoRSE.MoRSE('p', 4), mordred.MoRSE.MoRSE('p', 5), mordred.MoRSE.MoRSE('p', 6), mordred.MoRSE.MoRSE('p', 7), mordred.MoRSE.MoRSE('p', 8), mordred.MoRSE.MoRSE('p', 9), mordred.MoRSE.MoRSE('p', 10), mordred.MoRSE.MoRSE('p', 11), mordred.MoRSE.MoRSE('p', 12), mordred.MoRSE.MoRSE('p', 13), mordred.MoRSE.MoRSE('p', 14), mordred.MoRSE.MoRSE('p', 15), mordred.MoRSE.MoRSE('p', 16), mordred.MoRSE.MoRSE('p', 17), mordred.MoRSE.MoRSE('p', 18), mordred.MoRSE.MoRSE('p', 19), mordred.MoRSE.MoRSE('p', 20), mordred.MoRSE.MoRSE('p', 21), mordred.MoRSE.MoRSE('p', 22), mordred.MoRSE.MoRSE('p', 23), mordred.MoRSE.MoRSE('p', 24), mordred.MoRSE.MoRSE('p', 25), mordred.MoRSE.MoRSE('p', 26), mordred.MoRSE.MoRSE('p', 27), mordred.MoRSE.MoRSE('p', 28), mordred.MoRSE.MoRSE('p', 29), mordred.MoRSE.MoRSE('p', 30), mordred.MoRSE.MoRSE('p', 31), mordred.MoRSE.MoRSE('p', 32), mordred.MolecularDistanceEdge.MolecularDistanceEdge(1, 1, 'C'), mordred.MolecularDistanceEdge.MolecularDistanceEdge(1, 2, 'C'), mordred.MolecularDistanceEdge.MolecularDistanceEdge(1, 3, 'C'), mordred.MolecularDistanceEdge.MolecularDistanceEdge(2, 2, 'C'), mordred.MolecularDistanceEdge.MolecularDistanceEdge(2, 3, 'C'), mordred.MolecularDistanceEdge.MolecularDistanceEdge(2, 4, 'C'), mordred.MolecularDistanceEdge.MolecularDistanceEdge(3, 3, 'C'), mordred.MolecularDistanceEdge.MolecularDistanceEdge(3, 4, 'C'), mordred.MolecularDistanceEdge.MolecularDistanceEdge(1, 1, 'O'), mordred.MolecularDistanceEdge.MolecularDistanceEdge(1, 2, 'O'), mordred.MolecularDistanceEdge.MolecularDistanceEdge(2, 2, 'O'), mordred.MolecularDistanceEdge.MolecularDistanceEdge(1, 1, 'N'), mordred.MolecularDistanceEdge.MolecularDistanceEdge(1, 2, 'N'), mordred.MolecularDistanceEdge.MolecularDistanceEdge(1, 3, 'N'), mordred.MolecularDistanceEdge.MolecularDistanceEdge(2, 2, 'N'), mordred.MolecularDistanceEdge.MolecularDistanceEdge(2, 3, 'N'), mordred.MolecularDistanceEdge.MolecularDistanceEdge(3, 3, 'N')]\n",
        "calc_3d = Calculator(descriptors)  # Compute both 2D & 3D descriptors\n",
        "calc_3d.descriptors = [d for d in calc_3d.descriptors if d not in bad_keys]"
      ],
      "metadata": {
        "id": "9637DL4IzGXo"
      },
      "execution_count": 3,
      "outputs": []
    },
    {
      "cell_type": "code",
      "source": [
        "def compute_mordred(sm : str):\n",
        "    try:\n",
        "        mol = Chem.MolFromSmiles(sm)  # Convert SMILES to RDKit Mol\n",
        "        if mol is None:\n",
        "            return {}\n",
        "\n",
        "        # Generate 3D Conformer\n",
        "        mol_3d = Chem.AddHs(mol)  # Add hydrogen atoms\n",
        "        AllChem.EmbedMolecule(mol_3d, AllChem.ETKDG())  # Generate 3D structure\n",
        "        AllChem.UFFOptimizeMolecule(mol_3d)  # Optimize 3D geometry\n",
        "\n",
        "        # Compute 3D Descriptors\n",
        "        descriptors_3d = calc_3d(mol_3d)\n",
        "\n",
        "        # Store results in a dictionary\n",
        "        return descriptors_3d\n",
        "    except:\n",
        "        return {}"
      ],
      "metadata": {
        "id": "fKIjEQpBzUyI"
      },
      "execution_count": 4,
      "outputs": []
    },
    {
      "cell_type": "markdown",
      "source": [
        "## You might need to generate one descriptor at a time, as generating all descriptors can be quite time-consuming."
      ],
      "metadata": {
        "id": "oJyCJmHUhigq"
      }
    },
    {
      "cell_type": "code",
      "source": [
        "input_file = \"Excel Files/Zang_Data.xlsx\"\n",
        "property = [\"Log VP\", \"MP\", \"BP\", \"LogBCF\", \"LogS\", \"LogP\"]\n",
        "\n",
        "\n",
        "output_dir = \"Descriptors Data\"\n",
        "os.makedirs(output_dir, exist_ok=True)\n",
        "\n",
        "tqdm.pandas()\n",
        "\n",
        "for prop in property:\n",
        "    df = pd.read_excel(input_file, sheet_name=prop)\n",
        "    # n = len(df)\n",
        "\n",
        "    print(f\"\\nProcessing SMILES from sheet:{prop} .... \\n\")\n",
        "\n",
        "    df['Desc'] = df['SMILES'].progress_apply(compute_mordred)\n",
        "\n",
        "    desc_list = df['Desc'].tolist()\n",
        "    Desc_df = pd.DataFrame(desc_list)\n",
        "    # Desc_df.columns = [f\"{prop}_{i}\" for i in range(Desc_df.shape[1])]\n",
        "    output_file = os.path.join(output_dir, f\"{prop}_Mordred.xlsx\")\n",
        "    pd.concat([df.iloc[:, :9], Desc_df], axis=1).to_excel(output_file, index=False)\n",
        "    print(f\"The result is saved to the file {output_file}.\\n\")\n",
        "\n",
        "print(f'All sheets have been processed successfully!')"
      ],
      "metadata": {
        "id": "k2naBtSkz97P",
        "outputId": "47135d46-90b0-4911-82a6-d8d560621093",
        "colab": {
          "base_uri": "https://localhost:8080/"
        }
      },
      "execution_count": null,
      "outputs": [
        {
          "output_type": "stream",
          "name": "stdout",
          "text": [
            "\n",
            "Processing SMILES from sheet:Log VP .... \n",
            "\n"
          ]
        },
        {
          "output_type": "stream",
          "name": "stderr",
          "text": [
            "  2%|▏         | 58/2713 [00:14<07:26,  5.94it/s]"
          ]
        }
      ]
    }
  ]
}