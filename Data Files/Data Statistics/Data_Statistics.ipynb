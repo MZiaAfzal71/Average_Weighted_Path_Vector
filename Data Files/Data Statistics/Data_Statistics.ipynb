{
  "nbformat": 4,
  "nbformat_minor": 0,
  "metadata": {
    "colab": {
      "provenance": [],
      "authorship_tag": "ABX9TyMES9BZ7P3LgAMCE6LV8zPJ",
      "include_colab_link": true
    },
    "kernelspec": {
      "name": "python3",
      "display_name": "Python 3"
    },
    "language_info": {
      "name": "python"
    }
  },
  "cells": [
    {
      "cell_type": "markdown",
      "metadata": {
        "id": "view-in-github",
        "colab_type": "text"
      },
      "source": [
        "<a href=\"https://colab.research.google.com/github/MZiaAfzal71/Average_Weighted_Path_Vector/blob/main/Data%20Files/Data%20Statistics/Data_Statistics.ipynb\" target=\"_parent\"><img src=\"https://colab.research.google.com/assets/colab-badge.svg\" alt=\"Open In Colab\"/></a>"
      ]
    },
    {
      "cell_type": "code",
      "execution_count": null,
      "metadata": {
        "id": "tOOy5zNdgb61"
      },
      "outputs": [],
      "source": [
        "!git clone https://github.com/MZiaAfzal71/Average_Weighted_Path_Vector.git"
      ]
    },
    {
      "cell_type": "code",
      "source": [
        "%cd Average_Weighted_Path_Vector/Data\\ Files"
      ],
      "metadata": {
        "id": "B7MrTNjigm5E"
      },
      "execution_count": null,
      "outputs": []
    },
    {
      "cell_type": "code",
      "source": [
        "import pandas as pd\n",
        "import matplotlib.pyplot as plt\n",
        "import seaborn as sns\n",
        "from scipy.stats import skew, kurtosis\n",
        "import os\n",
        "\n",
        "# Output directory\n",
        "os.makedirs(\"Data Statistics\", exist_ok=True)\n",
        "\n",
        "# File path\n",
        "file_path = \"Excel Files/Zang_Data.xlsx\"\n",
        "\n",
        "# Sheet names\n",
        "sheets = [\"LogP\", \"LogS\", \"LogBCF\", \"BP\", \"MP\", \"Log VP\"]\n",
        "\n",
        "stats_list = []\n",
        "\n",
        "# Create subplot grid\n",
        "fig, axes = plt.subplots(2, 3, figsize=(15, 8))\n",
        "plt.subplots_adjust(hspace=0.4, wspace=0.3)\n",
        "\n",
        "for idx, sheet in enumerate(sheets):\n",
        "    df = pd.read_excel(file_path, sheet_name=sheet)\n",
        "\n",
        "    # Property values (last column)\n",
        "    prop_values = df.iloc[:, 5].dropna()\n",
        "\n",
        "    # Train/test split ratio\n",
        "    n_train = int(len(prop_values) * 0.75) if sheet != \"LogP\" else int(len(prop_values) * 0.80)\n",
        "    train_values = prop_values.iloc[:n_train]\n",
        "    test_values = prop_values.iloc[n_train:]\n",
        "\n",
        "    # Stats\n",
        "    mean_val = prop_values.mean()\n",
        "    std_val = prop_values.std()\n",
        "    skew_val = skew(prop_values)\n",
        "    kurt_val = kurtosis(prop_values)\n",
        "\n",
        "    stats_list.append({\n",
        "        \"Property\": sheet,\n",
        "        \"Min\": prop_values.min(),\n",
        "        \"Max\": prop_values.max(),\n",
        "        \"Mean\": mean_val,\n",
        "        \"Std\": std_val,\n",
        "        \"Skewness\": skew_val,\n",
        "        \"Kurtosis\": kurt_val\n",
        "    })\n",
        "\n",
        "    ax = axes[idx // 3, idx % 3]\n",
        "\n",
        "    # Histograms\n",
        "    sns.histplot(train_values, bins=30, kde=True, color=\"skyblue\", label=\"Train\", ax=ax, alpha=0.6)\n",
        "    sns.histplot(test_values, bins=30, kde=True, color=\"salmon\", label=\"Test\", ax=ax, alpha=0.6)\n",
        "\n",
        "    # Annotation box\n",
        "    annotation_text = (\n",
        "        f\"Mean: {mean_val:.2f}\\n\"\n",
        "        f\"Std: {std_val:.2f}\\n\"\n",
        "        f\"Skew: {skew_val:.2f}\\n\"\n",
        "        f\"Kurt: {kurt_val:.2f}\"\n",
        "    )\n",
        "    ax.text(0.98, 0.97, annotation_text, transform=ax.transAxes,\n",
        "            ha=\"right\", va=\"top\", fontsize=8,\n",
        "            bbox=dict(boxstyle=\"round,pad=0.3\", facecolor=\"white\", alpha=0.6))\n",
        "\n",
        "    ax.set_title(sheet)\n",
        "    ax.legend(loc=\"upper left\")\n",
        "\n",
        "# Save stats table\n",
        "stats_df = pd.DataFrame(stats_list)\n",
        "stats_df.to_csv(\"Data Statistics/property_statistics.csv\", index=False)\n",
        "print(stats_df)\n",
        "\n",
        "# Save figure\n",
        "plt.savefig(\"Data Statistics/property_histograms_annotations.png\", dpi=300)\n",
        "plt.show()\n"
      ],
      "metadata": {
        "id": "VenP5pgegsTT"
      },
      "execution_count": null,
      "outputs": []
    }
  ]
}