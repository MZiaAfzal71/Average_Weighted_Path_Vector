{
  "nbformat": 4,
  "nbformat_minor": 0,
  "metadata": {
    "colab": {
      "provenance": [],
      "authorship_tag": "ABX9TyMzChhIIMpDqbcBDgvQGafe",
      "include_colab_link": true
    },
    "kernelspec": {
      "name": "python3",
      "display_name": "Python 3"
    },
    "language_info": {
      "name": "python"
    }
  },
  "cells": [
    {
      "cell_type": "markdown",
      "metadata": {
        "id": "view-in-github",
        "colab_type": "text"
      },
      "source": [
        "<a href=\"https://colab.research.google.com/github/MZiaAfzal71/Average_Weighted_Path_Vector/blob/main/Data%20Files/Data%20Statistics/Data_Statistics.ipynb\" target=\"_parent\"><img src=\"https://colab.research.google.com/assets/colab-badge.svg\" alt=\"Open In Colab\"/></a>"
      ]
    },
    {
      "cell_type": "code",
      "execution_count": null,
      "metadata": {
        "id": "tOOy5zNdgb61"
      },
      "outputs": [],
      "source": [
        "!git clone https://github.com/MZiaAfzal71/Average_Weighted_Path_Vector.git"
      ]
    },
    {
      "cell_type": "code",
      "source": [
        "%cd Average_Weighted_Path_Vector/Data\\ Files"
      ],
      "metadata": {
        "id": "B7MrTNjigm5E"
      },
      "execution_count": null,
      "outputs": []
    },
    {
      "cell_type": "code",
      "source": [
        "import pandas as pd\n",
        "import matplotlib.pyplot as plt\n",
        "import seaborn as sns\n",
        "from scipy.stats import skew, kurtosis\n",
        "import os\n",
        "\n",
        "# Output directory\n",
        "os.makedirs(\"Data Statistics\", exist_ok=True)\n",
        "# File path\n",
        "file_path = \"Excel Files/Zang_Data.xlsx\"\n",
        "# Sheet names\n",
        "sheets = [\"LogP\", \"LogS\", \"LogBCF\", \"BP\", \"MP\", \"Log VP\"]"
      ],
      "metadata": {
        "id": "qtiY2r9_Aa7M"
      },
      "execution_count": null,
      "outputs": []
    },
    {
      "cell_type": "code",
      "source": [
        "stats_list = []\n",
        "\n",
        "# Create subplot grid\n",
        "fig, axes = plt.subplots(2, 3, figsize=(15, 8))\n",
        "plt.subplots_adjust(hspace=0.4, wspace=0.3)\n",
        "\n",
        "for idx, sheet in enumerate(sheets):\n",
        "    df = pd.read_excel(file_path, sheet_name=sheet)\n",
        "\n",
        "    # Property values (last column)\n",
        "    prop_values = df.iloc[:, 5].dropna()\n",
        "\n",
        "    # Train/test split ratio\n",
        "    n_train = int(len(prop_values) * 0.75) if sheet != \"LogP\" else int(len(prop_values) * 0.80)\n",
        "    train_values = prop_values.iloc[:n_train]\n",
        "    test_values = prop_values.iloc[n_train:]\n",
        "\n",
        "    # Stats\n",
        "    mean_val = prop_values.mean()\n",
        "    std_val = prop_values.std()\n",
        "    skew_val = skew(prop_values)\n",
        "    kurt_val = kurtosis(prop_values)\n",
        "\n",
        "    stats_list.append({\n",
        "        \"Property\": sheet,\n",
        "        \"Min\": prop_values.min(),\n",
        "        \"Max\": prop_values.max(),\n",
        "        \"Mean\": mean_val,\n",
        "        \"Std\": std_val,\n",
        "        \"Skewness\": skew_val,\n",
        "        \"Kurtosis\": kurt_val\n",
        "    })\n",
        "\n",
        "    ax = axes[idx // 3, idx % 3]\n",
        "\n",
        "    # Histograms\n",
        "    sns.histplot(train_values, bins=30, kde=True, color=\"skyblue\", label=\"Train\", ax=ax, alpha=0.6)\n",
        "    sns.histplot(test_values, bins=30, kde=True, color=\"salmon\", label=\"Test\", ax=ax, alpha=0.6)\n",
        "\n",
        "    # Annotation box\n",
        "    annotation_text = (\n",
        "        f\"Mean: {mean_val:.2f}\\n\"\n",
        "        f\"Std: {std_val:.2f}\\n\"\n",
        "        f\"Skew: {skew_val:.2f}\\n\"\n",
        "        f\"Kurt: {kurt_val:.2f}\"\n",
        "    )\n",
        "    ax.text(0.98, 0.97, annotation_text, transform=ax.transAxes,\n",
        "            ha=\"right\", va=\"top\", fontsize=8,\n",
        "            bbox=dict(boxstyle=\"round,pad=0.3\", facecolor=\"white\", alpha=0.6))\n",
        "\n",
        "    ax.set_title(sheet)\n",
        "    ax.legend(loc=\"upper left\")\n",
        "\n",
        "# Save stats table\n",
        "stats_df = pd.DataFrame(stats_list)\n",
        "stats_df.to_csv(\"Data Statistics/property_statistics.csv\", index=False)\n",
        "print(stats_df)\n",
        "\n",
        "# Save figure\n",
        "plt.savefig(\"Data Statistics/property_histograms_annotations.png\", dpi=300)\n",
        "plt.show()\n"
      ],
      "metadata": {
        "id": "VenP5pgegsTT"
      },
      "execution_count": null,
      "outputs": []
    },
    {
      "cell_type": "code",
      "source": [
        "property_names = [\"LogP\", \"LogS\", \"LogBCF\", \"BP\", \"MP\", \"LogVP\"]\n",
        "\n",
        "# Fixed colors for consistency with table ordering\n",
        "color_map = {\n",
        "    \"LogP\": (\"#1f77b4\", \"#aec7e8\"),\n",
        "    \"LogS\": (\"#ff7f0e\", \"#ffbb78\"),\n",
        "    \"LogBCF\": (\"#2ca02c\", \"#98df8a\"),\n",
        "    \"BP\": (\"#d62728\", \"#ff9896\"),\n",
        "    \"MP\": (\"#9467bd\", \"#c5b0d5\"),\n",
        "    \"LogVP\": (\"#8c564b\", \"#c49c94\")\n",
        "}\n",
        "\n",
        "fig, axes = plt.subplots(2, 3, figsize=(16, 8))\n",
        "axes = axes.flatten()\n",
        "\n",
        "for i, (sheet, prop) in enumerate(zip(sheets, property_names)):\n",
        "    df = pd.read_excel(file_path, sheet_name=sheet)\n",
        "\n",
        "    # Ensure consistent column naming\n",
        "\n",
        "    train_vals = df[df[\"Training/Test\"] == \"Training\"][df.columns[5]]\n",
        "    test_vals = df[df[\"Training/Test\"] == \"Test\"][df.columns[5]]\n",
        "\n",
        "    ax = axes[i]\n",
        "\n",
        "    # Plot histograms with KDE overlay\n",
        "    sns.histplot(train_vals, kde=True, color=color_map[prop][0], label=\"Train\", ax=ax, alpha=0.6)\n",
        "    sns.histplot(test_vals, kde=True, color=color_map[prop][1], label=\"Test\", ax=ax, alpha=0.6)\n",
        "\n",
        "    # Add annotations (mean, std, skewness, kurtosis)\n",
        "    stats_text = (\n",
        "        f\"Train μ={train_vals.mean():.2f}, σ={train_vals.std():.2f}\\n\"\n",
        "        f\"Skew={skew(train_vals):.2f}, Kurt={kurtosis(train_vals):.2f}\\n\"\n",
        "        f\"Test μ={test_vals.mean():.2f}, σ={test_vals.std():.2f}\\n\"\n",
        "        f\"Skew={skew(test_vals):.2f}, Kurt={kurtosis(test_vals):.2f}\"\n",
        "    )\n",
        "    ax.text(0.98, 0.97, stats_text, transform=ax.transAxes,\n",
        "            fontsize=8, va=\"top\", ha=\"right\", bbox=dict(boxstyle=\"round\", facecolor=\"white\", alpha=0.8))\n",
        "\n",
        "    ax.set_title(prop)\n",
        "    ax.legend(loc=\"upper left\")\n",
        "\n",
        "plt.tight_layout()\n",
        "plt.savefig(\"Data Statistics/property_histograms_annotations_colored.png\", dpi=300)\n",
        "plt.show()\n"
      ],
      "metadata": {
        "id": "TBAgZm0y52qY"
      },
      "execution_count": null,
      "outputs": []
    }
  ]
}