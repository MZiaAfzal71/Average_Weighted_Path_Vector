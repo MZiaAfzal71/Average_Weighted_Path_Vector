{
  "nbformat": 4,
  "nbformat_minor": 0,
  "metadata": {
    "colab": {
      "provenance": [],
      "authorship_tag": "ABX9TyP5XBE2P6G3wsSO7LS0qz1J",
      "include_colab_link": true
    },
    "kernelspec": {
      "name": "python3",
      "display_name": "Python 3"
    },
    "language_info": {
      "name": "python"
    }
  },
  "cells": [
    {
      "cell_type": "markdown",
      "metadata": {
        "id": "view-in-github",
        "colab_type": "text"
      },
      "source": [
        "<a href=\"https://colab.research.google.com/github/MZiaAfzal71/Average_Weighted_Path_Vector/blob/main/Descriptor%20Generators/GenerateMACCSMorganFingerprints.ipynb\" target=\"_parent\"><img src=\"https://colab.research.google.com/assets/colab-badge.svg\" alt=\"Open In Colab\"/></a>"
      ]
    },
    {
      "cell_type": "code",
      "source": [
        "!git clone https://github.com/MZiaAfzal71/Average_Weighted_Path_Vector.git"
      ],
      "metadata": {
        "id": "XR5EugHq6wSg"
      },
      "execution_count": null,
      "outputs": []
    },
    {
      "cell_type": "code",
      "execution_count": null,
      "metadata": {
        "id": "__aURz646lmH"
      },
      "outputs": [],
      "source": [
        "!pip install rdkit"
      ]
    },
    {
      "cell_type": "code",
      "source": [
        "%cd Average_Weighted_Path_Vector/Data\\ Files"
      ],
      "metadata": {
        "id": "5l1bOmJH65pk"
      },
      "execution_count": null,
      "outputs": []
    },
    {
      "cell_type": "code",
      "source": [
        "from rdkit import Chem\n",
        "from rdkit.Chem.rdMolDescriptors import GetMACCSKeysFingerprint\n",
        "from rdkit.Chem import rdFingerprintGenerator\n",
        "from tqdm import tqdm\n",
        "import numpy as np\n",
        "import os\n",
        "import pandas as pd"
      ],
      "metadata": {
        "id": "ItiTsGjT6_V-"
      },
      "execution_count": 2,
      "outputs": []
    },
    {
      "cell_type": "code",
      "source": [
        "# Define radius and fpSize (fingerprint Size) for Morgan fingerprints\n",
        "mfpgen = rdFingerprintGenerator.GetMorganGenerator(radius=2,fpSize=1024)"
      ],
      "metadata": {
        "id": "rosb3CSWBbjo"
      },
      "execution_count": 3,
      "outputs": []
    },
    {
      "cell_type": "code",
      "source": [
        "def mol_from_smile(sm : str) -> Chem.Mol:\n",
        "      try:\n",
        "        mol = Chem.MolFromSmiles(sm)  # Convert SMILES to RDKit Mol\n",
        "        if mol is None:\n",
        "            return None\n",
        "        return mol\n",
        "      except:\n",
        "        return None\n",
        "\n",
        "def mol_to_maccs(mol : Chem.Mol):\n",
        "      # Compute MACCS fingerprint (166-bit)\n",
        "      maccs_fp = GetMACCSKeysFingerprint(mol)\n",
        "      return list(maccs_fp)\n",
        "\n",
        "\n",
        "def mol_to_morgan(mol : Chem.Mol, radius=2, nBits=1024):\n",
        "      # Generate a Morgan fingerprint (ECFP4, radius=2)\n",
        "      morgan_fp = mfpgen.GetFingerprint(mol)\n",
        "      return np.array(morgan_fp)\n",
        ""
      ],
      "metadata": {
        "id": "xnhf26cz7oMB"
      },
      "execution_count": 4,
      "outputs": []
    },
    {
      "cell_type": "code",
      "source": [
        "input_file = \"Excel Files/Zang_Data.xlsx\"\n",
        "property = [\"Log VP\", \"MP\", \"BP\", \"LogBCF\", \"LogS\", \"LogP\"]\n",
        "\n",
        "output_dir = \"Descriptors Data\"\n",
        "os.makedirs(output_dir, exist_ok=True)"
      ],
      "metadata": {
        "id": "HHWpRnTy8yS3"
      },
      "execution_count": 9,
      "outputs": []
    },
    {
      "cell_type": "code",
      "source": [
        "tqdm.pandas()\n",
        "for prop in property:\n",
        "    df = pd.read_excel(input_file, sheet_name=prop)\n",
        "    df['Preferred_name'] = df['Preferred_name'].astype(str)\n",
        "\n",
        "    print(f\"\\nProcessing SMILES from sheet:{prop} .... \\n\")\n",
        "\n",
        "    # MACCS Keys\n",
        "    print(f\"Calculating MACCS Keys First!\\n\")\n",
        "    df['mol'] = df['SMILES'].progress_apply(mol_from_smile)\n",
        "    df['maccs_Desc'] = df['mol'].progress_apply(mol_to_maccs)\n",
        "\n",
        "    desc_list = df['maccs_Desc'].tolist()\n",
        "    Desc_df = pd.DataFrame(desc_list)\n",
        "    Desc_df.columns = [f\"{prop}_{i}\" for i in range(Desc_df.shape[1])]\n",
        "    output_file = os.path.join(output_dir, f\"{prop}_MACCS.parquet\")\n",
        "    pd.concat([df.iloc[:, :9], Desc_df], axis=1).to_parquet(output_file, index=False)\n",
        "    print(f\"The result is saved to the file {output_file}.\\n\")\n",
        "\n",
        "    # Morgan Keys\n",
        "    print(f\"Calculating Morgan fingerprints now!\\n\")\n",
        "    df['morgan_Desc'] = df['mol'].progress_apply(mol_to_morgan)\n",
        "\n",
        "    desc_list = df['morgan_Desc'].tolist()\n",
        "    Desc_df = pd.DataFrame(desc_list)\n",
        "    Desc_df.columns = [f\"{prop}_{i}\" for i in range(Desc_df.shape[1])]\n",
        "    output_file = os.path.join(output_dir, f\"{prop}_Morgan.parquet\")\n",
        "    pd.concat([df.iloc[:, :9], Desc_df], axis=1).to_parquet(output_file, index=False)\n",
        "    print(f\"The result is saved to the file {output_file}.\\n\")\n",
        "\n",
        "print(f'All sheets have been processed successfully!')"
      ],
      "metadata": {
        "id": "bK-hKhmz-qI1"
      },
      "execution_count": null,
      "outputs": []
    },
    {
      "cell_type": "markdown",
      "source": [
        "\n",
        "## To inspect the values of some computed descriptors\n"
      ],
      "metadata": {
        "id": "Mbygahb2FHUo"
      }
    },
    {
      "cell_type": "code",
      "source": [
        "desc_data = pd.read_parquet('Descriptors Data/LogP_Morgan.parquet')\n",
        "desc_data.head()"
      ],
      "metadata": {
        "id": "Pdm_xSod_Jz-"
      },
      "execution_count": null,
      "outputs": []
    }
  ]
}